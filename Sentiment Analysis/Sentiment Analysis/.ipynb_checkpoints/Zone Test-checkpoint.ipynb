{
 "cells": [
  {
   "cell_type": "code",
   "execution_count": 4,
   "metadata": {},
   "outputs": [
    {
     "name": "stdout",
     "output_type": "stream",
     "text": [
      "[SentiSynset('much.n.01'), SentiSynset('much.a.01'), SentiSynset('much.r.01'), SentiSynset('much.r.02'), SentiSynset('a_lot.r.01'), SentiSynset('much.r.04'), SentiSynset('much.r.05')]\n",
      "0.125\n",
      "0.125\n"
     ]
    }
   ],
   "source": [
    "from nltk.corpus.reader import sentiwordnet as swn\n",
    "\n",
    "dicoSentiWordnetFile = 'data/SentiWordNet_3.0.0_20130122.txt'\n",
    "swn_dict = swn.SentiWordNetCorpusReader('', [dicoSentiWordnetFile])\n",
    "word = list(swn_dict.senti_synsets('much'))\n",
    "print(word)\n",
    "print(word[0].pos_score())\n",
    "print(word[0].neg_score())"
   ]
  },
  {
   "cell_type": "code",
   "execution_count": null,
   "metadata": {},
   "outputs": [],
   "source": []
  }
 ],
 "metadata": {
  "kernelspec": {
   "display_name": "Python 3",
   "language": "python",
   "name": "python3"
  },
  "language_info": {
   "codemirror_mode": {
    "name": "ipython",
    "version": 3
   },
   "file_extension": ".py",
   "mimetype": "text/x-python",
   "name": "python",
   "nbconvert_exporter": "python",
   "pygments_lexer": "ipython3",
   "version": "3.8.3"
  }
 },
 "nbformat": 4,
 "nbformat_minor": 4
}
